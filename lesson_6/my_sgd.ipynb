{
 "cells": [
  {
   "cell_type": "code",
   "execution_count": 90,
   "id": "0e042151-df3a-4ec3-93f9-79a7145129fc",
   "metadata": {},
   "outputs": [],
   "source": [
    "import numpy as np"
   ]
  },
  {
   "cell_type": "code",
   "execution_count": 100,
   "id": "9cc9587a-b72b-4023-99a5-34544bdc4fdb",
   "metadata": {},
   "outputs": [],
   "source": [
    "class SGD:\n",
    "    def __init__(self, X, y, alpha=0.01, epochs=100, batch_size=16):\n",
    "        self.X = np.concatenate((np.ones((np.shape(X)[0], 1)), X), axis=1)\n",
    "        self.y = y\n",
    "        self.alpha = alpha\n",
    "        self.epochs = epochs\n",
    "        self.batch_size = batch_size\n",
    "        self.W = np.random.randn(np.shape(X)[1] + 1, )\n",
    "\n",
    "    @staticmethod\n",
    "    def get_gradient(X_batch, error):\n",
    "        gradient = 1 / len(X_batch) * X_batch.T.dot(error)\n",
    "        return gradient\n",
    "\n",
    "    @staticmethod\n",
    "    def get_error(X_batch, y_batch, W):\n",
    "        y_estimated = X_batch @ W\n",
    "        error = y_estimated - y_batch\n",
    "        return error\n",
    "\n",
    "    @staticmethod\n",
    "    def get_mse(X_batch, error):\n",
    "        return 1 / 2 * len(X_batch) * np.sum(error ** 2)\n",
    "\n",
    "    def _batch_generator(self) -> tuple:\n",
    "        for i in range(0, len(self.X), self.batch_size):\n",
    "            X_batch = self.X[i:(i + self.batch_size)] \n",
    "            y_batch = self.y[i:(i + self.batch_size)]\n",
    "            yield X_batch, y_batch\n",
    "\n",
    "    def run(self):\n",
    "        general_loss_list = []\n",
    "        for epoch in range(self.epochs):\n",
    "            batch_loss_list = []\n",
    "            for X_batch, y_batch  in self._batch_generator():\n",
    "                error = self.get_error(X_batch, y_batch, self.W)\n",
    "                mse = self.get_mse(X_batch, error)\n",
    "                batch_loss_list.append(mse)\n",
    "                gradient = self.get_gradient(X_batch, error)\n",
    "                self.W = self.W - self.alpha * gradient\n",
    "            general_loss_list.append(np.mean(batch_loss_list))\n",
    "        return self.W, general_loss_list"
   ]
  },
  {
   "cell_type": "code",
   "execution_count": 120,
   "id": "1f2478dc-3c09-4a0f-a109-eb1f38186524",
   "metadata": {},
   "outputs": [],
   "source": [
    "np.random.seed(42)\n",
    "X = 5 * np.random.rand(1000, 5)\n",
    "y = 4 + X @ np.random.rand(5, 1)\n",
    "y = np.ndarray.flatten(y)"
   ]
  },
  {
   "cell_type": "code",
   "execution_count": 133,
   "id": "9a5ea765-ddc4-40c7-bf77-d48910beda06",
   "metadata": {},
   "outputs": [],
   "source": [
    "stochastic_gradient_descent = SGD(X, y, epochs=50)\n",
    "weight_matrix, mse_dynamics = stochastic_gradient_descent.run()"
   ]
  },
  {
   "cell_type": "code",
   "execution_count": 134,
   "id": "3492cce3-a055-4a47-89ed-492e6f839481",
   "metadata": {},
   "outputs": [],
   "source": [
    "import seaborn as sns"
   ]
  },
  {
   "cell_type": "code",
   "execution_count": 135,
   "id": "41b9b562-2500-462a-b431-90768744d915",
   "metadata": {},
   "outputs": [
    {
     "data": {
      "text/plain": [
       "<Axes: >"
      ]
     },
     "execution_count": 135,
     "metadata": {},
     "output_type": "execute_result"
    },
    {
     "data": {
      "image/png": "[encoded data removed]",
      "text/plain": [
       "<Figure size 640x480 with 1 Axes>"
      ]
     },
     "metadata": {},
     "output_type": "display_data"
    }
   ],
   "source": [
    "sns.set()\n",
    "sns.lineplot(mse_dynamics)"
   ]
  },
  {
   "cell_type": "code",
   "execution_count": null,
   "id": "4f989c2a-ef64-45be-a1f4-0ec4e398a4d0",
   "metadata": {},
   "outputs": [],
   "source": []
  }
 ],
 "metadata": {
  "kernelspec": {
   "display_name": "Python 3 (ipykernel)",
   "language": "python",
   "name": "python3"
  },
  "language_info": {
   "codemirror_mode": {
    "name": "ipython",
    "version": 3
   },
   "file_extension": ".py",
   "mimetype": "text/x-python",
   "name": "python",
   "nbconvert_exporter": "python",
   "pygments_lexer": "ipython3",
   "version": "3.11.0"
  }
 },
 "nbformat": 4,
 "nbformat_minor": 5
}
